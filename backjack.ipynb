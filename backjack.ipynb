{
  "nbformat": 4,
  "nbformat_minor": 0,
  "metadata": {
    "colab": {
      "name": "backjack.ipynb",
      "provenance": [],
      "authorship_tag": "ABX9TyOEVQ4f0NWy1HnUVVW3yqZF",
      "include_colab_link": true
    },
    "kernelspec": {
      "name": "python3",
      "display_name": "Python 3"
    },
    "language_info": {
      "name": "python"
    }
  },
  "cells": [
    {
      "cell_type": "markdown",
      "metadata": {
        "id": "view-in-github",
        "colab_type": "text"
      },
      "source": [
        "<a href=\"https://colab.research.google.com/github/johnczontos/BellarmineSummerDays/blob/blackJack/backjack.ipynb\" target=\"_parent\"><img src=\"https://colab.research.google.com/assets/colab-badge.svg\" alt=\"Open In Colab\"/></a>"
      ]
    },
    {
      "cell_type": "code",
      "metadata": {
        "id": "j9pSK_ZvVyou"
      },
      "source": [
        "import os\n",
        "import random\n",
        "\n",
        "deck = [2, 3, 4, 5, 6, 7, 8, 9, 10, 11, 12, 13, 14]*4"
      ],
      "execution_count": null,
      "outputs": []
    },
    {
      "cell_type": "code",
      "metadata": {
        "id": "GXmJE1CkV2df"
      },
      "source": [
        "def deal(deck):\n",
        "    hand = []\n",
        "    for i in range(2):\n",
        "\t    random.shuffle(deck)\n",
        "\t    card = deck.pop()\n",
        "\t    if card == 11:card = \"J\"\n",
        "\t    if card == 12:card = \"Q\"\n",
        "\t    if card == 13:card = \"K\"\n",
        "\t    if card == 14:card = \"A\"\n",
        "\t    hand.append(card)\n",
        "    return hand"
      ],
      "execution_count": null,
      "outputs": []
    },
    {
      "cell_type": "code",
      "metadata": {
        "id": "Gs2J06kCV7tT"
      },
      "source": [
        "def play_again():\n",
        "    again = input(\"Do you want to play again? (Y/N) : \").lower()\n",
        "    if again == \"y\":\n",
        "\t    dealer_hand = []\n",
        "\t    player_hand = []\n",
        "\t    deck = [2, 3, 4, 5, 6, 7, 8, 9, 10, 11, 12, 13, 14]*4\n",
        "\t    game()\n",
        "    else:\n",
        "\t    print(\"Bye!\")\n",
        "\t    exit()"
      ],
      "execution_count": null,
      "outputs": []
    },
    {
      "cell_type": "code",
      "metadata": {
        "id": "RI36xLVtWDdG"
      },
      "source": [
        "def total(hand):\n",
        "    total = 0\n",
        "    for card in hand:\n",
        "\t    if card == \"J\" or card == \"Q\" or card == \"K\":\n",
        "\t        total+= 10\n",
        "\t    elif card == \"A\":\n",
        "\t        if total >= 11: total+= 1\n",
        "\t        else: total+= 11\n",
        "\t    else:\n",
        "\t        total += card\n",
        "    return total"
      ],
      "execution_count": null,
      "outputs": []
    },
    {
      "cell_type": "code",
      "metadata": {
        "id": "-FH3yVAWWi5V"
      },
      "source": [
        "def hit(hand):\n",
        "\tcard = deck.pop()\n",
        "\tif card == 11:card = \"J\"\n",
        "\tif card == 12:card = \"Q\"\n",
        "\tif card == 13:card = \"K\"\n",
        "\tif card == 14:card = \"A\"\n",
        "\thand.append(card)\n",
        "\treturn hand"
      ],
      "execution_count": null,
      "outputs": []
    },
    {
      "cell_type": "code",
      "metadata": {
        "id": "Q6Vx5QpeWjci"
      },
      "source": [
        "def clear():\n",
        "\tif os.name == 'nt':\n",
        "\t\tos.system('CLS')\n",
        "\tif os.name == 'posix':\n",
        "\t\tos.system('clear')"
      ],
      "execution_count": null,
      "outputs": []
    },
    {
      "cell_type": "code",
      "metadata": {
        "id": "v9Lef9zrWl-B"
      },
      "source": [
        "def print_results(dealer_hand, player_hand):\n",
        "\tclear()\n",
        "\tprint (\"The dealer has a \" + str(dealer_hand) + \" for a total of \" + str(total(dealer_hand)))\n",
        "\tprint (\"You have a \" + str(player_hand) + \" for a total of \" + str(total(player_hand)))"
      ],
      "execution_count": null,
      "outputs": []
    },
    {
      "cell_type": "code",
      "metadata": {
        "id": "2RR89TniWpkI"
      },
      "source": [
        "def blackjack(dealer_hand, player_hand):\n",
        "\tif total(player_hand) == 21:\n",
        "\t\tprint_results(dealer_hand, player_hand)\n",
        "\t\tprint (\"Congratulations! You got a Blackjack!\\n\")\n",
        "\t\tplay_again()\n",
        "\telif total(dealer_hand) == 21:\n",
        "\t\tprint_results(dealer_hand, player_hand)\t\t\n",
        "\t\tprint (\"Sorry, you lose. The dealer got a blackjack.\\n\")\n",
        "\t\tplay_again()"
      ],
      "execution_count": null,
      "outputs": []
    },
    {
      "cell_type": "code",
      "metadata": {
        "id": "hxr1bbVIWvso"
      },
      "source": [
        "def score(dealer_hand, player_hand):\n",
        "    if total(player_hand) == 21:\n",
        "        print_results(dealer_hand, player_hand)\n",
        "        print (\"Congratulations! You got a Blackjack!\\n\")\n",
        "    elif total(dealer_hand) == 21:\n",
        "        print_results(dealer_hand, player_hand)\t\t\n",
        "        print (\"Sorry, you lose. The dealer got a blackjack.\\n\")\n",
        "    elif total(player_hand) > 21:\n",
        "        print_results(dealer_hand, player_hand)\n",
        "        print (\"Sorry. You busted. You lose.\\n\")\n",
        "    elif total(dealer_hand) > 21:\n",
        "        print_results(dealer_hand, player_hand)\t\t\t   \n",
        "        print (\"Dealer busts. You win!\\n\")\n",
        "    elif total(player_hand) < total(dealer_hand):\n",
        "        print_results(dealer_hand, player_hand)\n",
        "        print (\"Sorry. Your score isn't higher than the dealer. You lose.\\n\")\n",
        "    elif total(player_hand) > total(dealer_hand):\n",
        "        print_results(dealer_hand, player_hand)\t\t\t   \n",
        "        print (\"Congratulations. Your score is higher than the dealer. You win\\n\")"
      ],
      "execution_count": null,
      "outputs": []
    },
    {
      "cell_type": "code",
      "metadata": {
        "id": "d693g0jnWx8Y"
      },
      "source": [
        "def game():\n",
        "\tchoice = 0\n",
        "\tclear()\n",
        "\tprint (\"WELCOME TO BLACKJACK!\\n\")\n",
        "\tdealer_hand = deal(deck)\n",
        "\tplayer_hand = deal(deck)\n",
        "\twhile choice != \"q\":\n",
        "\t\tprint (\"The dealer is showing a \" + str(dealer_hand[0]))\n",
        "\t\tprint (\"You have a \" + str(player_hand) + \" for a total of \" + str(total(player_hand)))\n",
        "\t\tblackjack(dealer_hand, player_hand)\n",
        "\t\tchoice = input(\"Do you want to [H]it, [S]tand, or [Q]uit: \").lower()\n",
        "\t\tclear()\n",
        "\t\tif choice == \"h\":\n",
        "\t\t\thit(player_hand)\n",
        "\t\t\twhile total(dealer_hand) < 17:\n",
        "\t\t\t\thit(dealer_hand)\n",
        "\t\t\tscore(dealer_hand, player_hand)\n",
        "\t\t\tplay_again()\n",
        "\t\telif choice == \"s\":\n",
        "\t\t\twhile total(dealer_hand) < 17:\n",
        "\t\t\t\thit(dealer_hand)\n",
        "\t\t\tscore(dealer_hand, player_hand)\n",
        "\t\t\tplay_again()\n",
        "\t\telif choice == \"q\":\n",
        "\t\t\tprint (\"Bye!\")\n",
        "\t\t\texit()"
      ],
      "execution_count": null,
      "outputs": []
    },
    {
      "cell_type": "code",
      "metadata": {
        "colab": {
          "base_uri": "https://localhost:8080/"
        },
        "id": "4tecfWzwW01U",
        "outputId": "b34bf716-04db-4d74-e1b1-b42fb9447540"
      },
      "source": [
        "if __name__ == \"__main__\":\n",
        "   game()"
      ],
      "execution_count": null,
      "outputs": [
        {
          "output_type": "stream",
          "text": [
            "WELCOME TO BLACKJACK!\n",
            "\n",
            "The dealer is showing a J\n",
            "You have a [9, 8] for a total of 17\n",
            "The dealer has a ['J', 'A'] for a total of 21\n",
            "You have a [9, 8] for a total of 17\n",
            "Sorry, you lose. The dealer got a blackjack.\n",
            "\n",
            "WELCOME TO BLACKJACK!\n",
            "\n",
            "The dealer is showing a 6\n",
            "You have a [10, 6] for a total of 16\n",
            "The dealer is showing a 6\n",
            "You have a [10, 6] for a total of 16\n",
            "The dealer has a [6, 8, 7] for a total of 21\n",
            "You have a [10, 6, 'Q'] for a total of 26\n",
            "Sorry, you lose. The dealer got a blackjack.\n",
            "\n"
          ],
          "name": "stdout"
        }
      ]
    },
    {
      "cell_type": "code",
      "metadata": {
        "id": "--pugF0JX83Q"
      },
      "source": [
        ""
      ],
      "execution_count": null,
      "outputs": []
    }
  ]
}