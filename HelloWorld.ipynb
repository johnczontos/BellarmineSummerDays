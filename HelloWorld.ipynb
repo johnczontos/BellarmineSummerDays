{
  "nbformat": 4,
  "nbformat_minor": 0,
  "metadata": {
    "colab": {
      "name": "HelloWorld.ipynb",
      "provenance": [],
      "collapsed_sections": [],
      "authorship_tag": "ABX9TyO0ckZu6RETtA0nZTYk72kl",
      "include_colab_link": true
    },
    "kernelspec": {
      "name": "python3",
      "display_name": "Python 3"
    },
    "language_info": {
      "name": "python"
    }
  },
  "cells": [
    {
      "cell_type": "markdown",
      "metadata": {
        "id": "view-in-github",
        "colab_type": "text"
      },
      "source": [
        "<a href=\"https://colab.research.google.com/github/johnczontos/BellarmineSummerDays/blob/main/HelloWorld.ipynb\" target=\"_parent\"><img src=\"https://colab.research.google.com/assets/colab-badge.svg\" alt=\"Open In Colab\"/></a>"
      ]
    },
    {
      "cell_type": "code",
      "metadata": {
        "colab": {
          "base_uri": "https://localhost:8080/"
        },
        "id": "-bvzxJLXu9Jf",
        "outputId": "41578c92-a5bd-452d-bd7e-f62c2a2f3a5c"
      },
      "source": [
        "# to output to the screen we use the print() function\n",
        "# print has an optional parameter labeled end that controls\n",
        "#   the character python  adds to the end of the output.\n",
        "#   (by default this is the '\\n' character.)\n",
        "print(5, end='')        # this is an int\n",
        "print(\"hello world\")    # this is a string\n",
        "print('c')              # this is a char\n",
        "print(True)             # this is a boolean"
      ],
      "execution_count": 2,
      "outputs": [
        {
          "output_type": "stream",
          "text": [
            "5hello world\n",
            "True\n"
          ],
          "name": "stdout"
        }
      ]
    },
    {
      "cell_type": "code",
      "metadata": {
        "colab": {
          "base_uri": "https://localhost:8080/"
        },
        "id": "dL2ej-2HvO4B",
        "outputId": "9602ba0f-8a82-4ad0-e390-63fede97a601"
      },
      "source": [
        "# this cell demonstrates variable and conditional statements\n",
        "x = 5                   # this is a variable of type integer\n",
        "\n",
        "# this is an if-else statement.\n",
        "# here we are conditioning on the statement \"7 < x\"\n",
        "if 7 < x:\n",
        "    print(\"this is true\")   # this code should not run.\n",
        "else:\n",
        "    print(\"shoot this was false.\")  # the statement is currently false so this code will run.\n"
      ],
      "execution_count": 4,
      "outputs": [
        {
          "output_type": "stream",
          "text": [
            "shoot this was false.\n"
          ],
          "name": "stdout"
        }
      ]
    },
    {
      "cell_type": "code",
      "metadata": {
        "colab": {
          "base_uri": "https://localhost:8080/"
        },
        "id": "KPFZtWapvPBY",
        "outputId": "0cf8eaa1-fc44-41a9-a183-24db79b51b1a"
      },
      "source": [
        "# here is an example of a while loop\n",
        "# here we initialize the varaible 'i' to the integer literal 0.\n",
        "i = 0\n",
        "\n",
        "# this is a while loop\n",
        "# we are looping on the condition 'i < 10'\n",
        "while i < 10:\n",
        "    print(i)        # this code should be run 10 times\n",
        "    i = i + 1       # here we are incrementing i"
      ],
      "execution_count": 33,
      "outputs": [
        {
          "output_type": "stream",
          "text": [
            "0\n",
            "1\n",
            "2\n",
            "3\n",
            "4\n",
            "5\n",
            "6\n",
            "7\n",
            "8\n",
            "9\n"
          ],
          "name": "stdout"
        }
      ]
    },
    {
      "cell_type": "code",
      "metadata": {
        "colab": {
          "base_uri": "https://localhost:8080/"
        },
        "id": "3Kiin_INvPHA",
        "outputId": "1d761865-11b3-4bb4-c69c-f57a0e5f7d2e"
      },
      "source": [
        "# here is an example of a for loop\n",
        "# we are looping on the condition 'i < 10'\n",
        "# this code exicutes the same way as before but with less lines of code.\n",
        "for i in range(10):\n",
        "    print(i)"
      ],
      "execution_count": 34,
      "outputs": [
        {
          "output_type": "stream",
          "text": [
            "0\n",
            "1\n",
            "2\n",
            "3\n",
            "4\n",
            "5\n",
            "6\n",
            "7\n",
            "8\n",
            "9\n"
          ],
          "name": "stdout"
        }
      ]
    },
    {
      "cell_type": "code",
      "metadata": {
        "colab": {
          "base_uri": "https://localhost:8080/"
        },
        "id": "mbDucMr0vPKs",
        "outputId": "beef1367-cc82-4b89-979b-426b1c863da9"
      },
      "source": [
        "# this is a function\n",
        "\n",
        "# in math we right the equation:\n",
        "# f(x) = x*2 + 7\n",
        "# then we might evaluate:\n",
        "# f(3) = 3*2 + 7\n",
        "# f(3) = 15\n",
        "\n",
        "\n",
        "#   VERY IMPORTANT\n",
        "#  funciton description:\n",
        "# name: f\n",
        "# input parameters: x\n",
        "# output returns: x * 2 + 7\n",
        "def f(x):\n",
        "    return x * 2 + 7\n",
        "\n",
        "result = f(3)\n",
        "print(result)\n"
      ],
      "execution_count": 6,
      "outputs": [
        {
          "output_type": "stream",
          "text": [
            "13\n"
          ],
          "name": "stdout"
        }
      ]
    },
    {
      "cell_type": "code",
      "metadata": {
        "id": "Rr2ELrUb3MRV"
      },
      "source": [
        ""
      ],
      "execution_count": 56,
      "outputs": []
    },
    {
      "cell_type": "code",
      "metadata": {
        "id": "xkqdGuEg9KX4"
      },
      "source": [
        ""
      ],
      "execution_count": null,
      "outputs": []
    }
  ]
}