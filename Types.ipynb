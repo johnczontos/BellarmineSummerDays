{
  "nbformat": 4,
  "nbformat_minor": 0,
  "metadata": {
    "colab": {
      "name": "Types.ipynb",
      "provenance": [],
      "collapsed_sections": [],
      "authorship_tag": "ABX9TyMZuwkk9eTbWEt/i6Hxakid",
      "include_colab_link": true
    },
    "kernelspec": {
      "name": "python3",
      "display_name": "Python 3"
    },
    "language_info": {
      "name": "python"
    }
  },
  "cells": [
    {
      "cell_type": "markdown",
      "metadata": {
        "id": "view-in-github",
        "colab_type": "text"
      },
      "source": [
        "<a href=\"https://colab.research.google.com/github/johnczontos/BellarmineSummerDays/blob/Types/Types.ipynb\" target=\"_parent\"><img src=\"https://colab.research.google.com/assets/colab-badge.svg\" alt=\"Open In Colab\"/></a>"
      ]
    },
    {
      "cell_type": "markdown",
      "metadata": {
        "id": "23vBiHcq8A9M"
      },
      "source": [
        "## Text Types:"
      ]
    },
    {
      "cell_type": "code",
      "metadata": {
        "colab": {
          "base_uri": "https://localhost:8080/"
        },
        "id": "51JM0Bhj5rXL",
        "outputId": "ba738237-c0e2-4013-acea-c6507b13430c"
      },
      "source": [
        "# string: str\n",
        "# there are multiple ways to define a string in python\n",
        "\n",
        "# single and double quotes do exactly the same thing\n",
        "print('words \"go\" here')\n",
        "print(\"go \\n bells\")\n",
        "\n",
        "# most languages use chars as a primitive data type\n",
        "# python does not, instead single characters can be\n",
        "# expressed as strings of length 1\n",
        "print(type('c'))\n",
        "\n",
        "# tripple quotes allow you to define multiline strings\n",
        "# raw string literals\n",
        "print(\"\"\"\n",
        "omae wa mo shindeiru\n",
        "NANI\n",
        "\n",
        "    asdf\n",
        "\"\"\")"
      ],
      "execution_count": 6,
      "outputs": [
        {
          "output_type": "stream",
          "text": [
            "words \"go\" here\n",
            "go \n",
            " bells\n",
            "<class 'str'>\n",
            "omae wa mo shindeiru\n",
            "NANI\n",
            "\n",
            "    asdf\n",
            "\n"
          ],
          "name": "stdout"
        }
      ]
    },
    {
      "cell_type": "markdown",
      "metadata": {
        "id": "EymwFfYn8Pi3"
      },
      "source": [
        "##Numeric Types:"
      ]
    },
    {
      "cell_type": "code",
      "metadata": {
        "colab": {
          "base_uri": "https://localhost:8080/"
        },
        "id": "SihCC_8d7JDj",
        "outputId": "57ebf52c-13b2-46d0-efdc-d239c222f687"
      },
      "source": [
        "# int\n",
        "print(type(7))\n",
        "print(type(0))\n",
        "print(type(-7))\n",
        "print(type(5//2))\n",
        "print(type(5**2))"
      ],
      "execution_count": 7,
      "outputs": [
        {
          "output_type": "stream",
          "text": [
            "<class 'int'>\n",
            "<class 'int'>\n",
            "<class 'int'>\n",
            "<class 'int'>\n",
            "<class 'int'>\n"
          ],
          "name": "stdout"
        }
      ]
    },
    {
      "cell_type": "code",
      "metadata": {
        "colab": {
          "base_uri": "https://localhost:8080/"
        },
        "id": "mTF_ek8bATVp",
        "outputId": "f20034cf-84b5-4eed-cca0-599307089291"
      },
      "source": [
        "# float\n",
        "print(type(7.1))\n",
        "print(type(10.))\n",
        "print(type(4 / 2))\n",
        "print(type(5.0 // 2.0))\n",
        "print(type(5**(1/2)))"
      ],
      "execution_count": 12,
      "outputs": [
        {
          "output_type": "stream",
          "text": [
            "<class 'float'>\n",
            "<class 'float'>\n",
            "<class 'float'>\n",
            "<class 'float'>\n",
            "<class 'float'>\n"
          ],
          "name": "stdout"
        }
      ]
    },
    {
      "cell_type": "code",
      "metadata": {
        "colab": {
          "base_uri": "https://localhost:8080/"
        },
        "id": "SbgP2odORNyd",
        "outputId": "627c29cd-96f1-4848-8701-5b763fc00197"
      },
      "source": [
        ""
      ],
      "execution_count": 15,
      "outputs": [
        {
          "output_type": "stream",
          "text": [
            "8\n"
          ],
          "name": "stdout"
        }
      ]
    },
    {
      "cell_type": "code",
      "metadata": {
        "colab": {
          "base_uri": "https://localhost:8080/"
        },
        "id": "yJ-NzuUkAT-x",
        "outputId": "e34bba99-09fb-4734-a4be-4a19bb5c100b"
      },
      "source": [
        "# complex\n",
        "# dont worry about these just know they're there\n",
        "x = 2+3j\n",
        "\n",
        "print(x)\n",
        "print(type(x))"
      ],
      "execution_count": 44,
      "outputs": [
        {
          "output_type": "stream",
          "text": [
            "(2+3j)\n",
            "<class 'complex'>\n"
          ],
          "name": "stdout"
        }
      ]
    },
    {
      "cell_type": "markdown",
      "metadata": {
        "id": "XlqVi5WSThr1"
      },
      "source": [
        "## Boolean Type:"
      ]
    },
    {
      "cell_type": "code",
      "metadata": {
        "colab": {
          "base_uri": "https://localhost:8080/"
        },
        "id": "b9FM4pLOTpna",
        "outputId": "28c77e00-7d92-42d5-c20d-ddc2eadb6979"
      },
      "source": [
        "# bool\n",
        "x = True\n",
        "y = False\n",
        "print(x, type(x))\n",
        "print(y, type(y))\n",
        "\n",
        "x = bool(\"abc\")\n",
        "y = bool(\"\")\n",
        "print(x, type(x))\n",
        "print(y, type(y))\n",
        "\n",
        "x = bool(123)\n",
        "y = bool(0)\n",
        "print(x, type(x))\n",
        "print(y, type(y))"
      ],
      "execution_count": 16,
      "outputs": [
        {
          "output_type": "stream",
          "text": [
            "True <class 'bool'>\n",
            "False <class 'bool'>\n",
            "True <class 'bool'>\n",
            "False <class 'bool'>\n",
            "True <class 'bool'>\n",
            "False <class 'bool'>\n"
          ],
          "name": "stdout"
        }
      ]
    },
    {
      "cell_type": "markdown",
      "metadata": {
        "id": "vAxOZvfGALJU"
      },
      "source": [
        "## Sequence Types:"
      ]
    },
    {
      "cell_type": "code",
      "metadata": {
        "id": "-OjFdUCOAQOJ"
      },
      "source": [
        "# list          **collection**\n",
        "\n",
        "# List items are ordered, changeable, and allow duplicate values.\n",
        "# List items are indexed,\n",
        "# the first item has index [0], the second item has index [1] etc.\n",
        "\n",
        "\n",
        "x = [\"apple\", \"banana\", \"cherry\"]\n",
        "print(type(x))"
      ],
      "execution_count": null,
      "outputs": []
    },
    {
      "cell_type": "code",
      "metadata": {
        "id": "9ZZjM2ZjAhdC"
      },
      "source": [
        "# tuple         **collection**\n",
        "\n",
        "# Tuple items are ordered, unchangeable, and allow duplicate values\n",
        "# List items are indexed.\n",
        "\n",
        "x = (\"apple\", \"banana\", \"cherry\")\n",
        "print(type(x))"
      ],
      "execution_count": null,
      "outputs": []
    },
    {
      "cell_type": "code",
      "metadata": {
        "colab": {
          "base_uri": "https://localhost:8080/"
        },
        "id": "OCoBrxauB27T",
        "outputId": "c91dbd62-7619-4384-fe4a-0d68dfe17f91"
      },
      "source": [
        "# range\n",
        "\n",
        "# A range is a sequence of numbers,\n",
        "#  starting from 0 by default,\n",
        "#  and increments by 1 (by default),\n",
        "#  and stops before a specified number.\n",
        "\n",
        "\n",
        "# range(start, stop, step)\n",
        "x = range(0, 10, 2)\n",
        "print(x)\n",
        "print(type(x))\n",
        "\n",
        "for i in range(10):\n",
        "    print(i)\n",
        "\n",
        "# range(stop)\n",
        "x = range(10)\n",
        "print(x)\n",
        "print(type(x))"
      ],
      "execution_count": 20,
      "outputs": [
        {
          "output_type": "stream",
          "text": [
            "range(0, 10, 2)\n",
            "<class 'range'>\n",
            "0\n",
            "1\n",
            "2\n",
            "3\n",
            "4\n",
            "5\n",
            "6\n",
            "7\n",
            "8\n",
            "9\n",
            "range(0, 10)\n",
            "<class 'range'>\n"
          ],
          "name": "stdout"
        }
      ]
    },
    {
      "cell_type": "markdown",
      "metadata": {
        "id": "o2PnoqbMDJE-"
      },
      "source": [
        "##Mapping Type:"
      ]
    },
    {
      "cell_type": "code",
      "metadata": {
        "colab": {
          "base_uri": "https://localhost:8080/"
        },
        "id": "Qs3_OcaTDQ2p",
        "outputId": "c54f64f9-7556-4658-f04e-0e13439c0804"
      },
      "source": [
        "# dictionary        **collection**\n",
        "\n",
        "# Dictionaries are used to store data values in key:value pairs.\n",
        "# A dictionary is a collection which is ordered,\n",
        "#  changeable and does not allow duplicates.\n",
        "\n",
        "x = {\"name\" : \"John\", \"age\" : 21, \"favorite_color\" : \"green\"}\n",
        "print(x)\n",
        "\n",
        "\n",
        "x = {\n",
        "    \"name\" : \"John\",\n",
        "    \"age\" : 21,\n",
        "    \"favorite_color\" : \"green\"\n",
        "}\n",
        "print(x)\n",
        "\n",
        "\n",
        "# notice dicts do not allow duplicates so\n",
        "# in this example the value with key \"age\" gets overwriten\n",
        "x = {\n",
        "    \"name\" : \"John\",\n",
        "    \"age\" : 21,\n",
        "    \"favorite_color\" : \"green\",\n",
        "    \"age\" : 18\n",
        "}\n",
        "print(x)\n",
        "\n",
        "\n",
        "print(type(x))"
      ],
      "execution_count": 22,
      "outputs": [
        {
          "output_type": "stream",
          "text": [
            "{'name': 'John', 'age': 21, 'favorite_color': 'green'}\n",
            "{'name': 'John', 'age': 21, 'favorite_color': 'green'}\n",
            "{'name': 'John', 'age': 18, 'favorite_color': 'green'}\n",
            "<class 'dict'>\n"
          ],
          "name": "stdout"
        }
      ]
    },
    {
      "cell_type": "markdown",
      "metadata": {
        "id": "Iv-BwZoyQsID"
      },
      "source": [
        "## Set Types:"
      ]
    },
    {
      "cell_type": "code",
      "metadata": {
        "colab": {
          "base_uri": "https://localhost:8080/"
        },
        "id": "q-X9BUxjQuaC",
        "outputId": "c4def790-397c-4973-d9c1-26d93f1f0551"
      },
      "source": [
        "# set           **collection**\n",
        "\n",
        "# Set items are unordered, \n",
        "#   changeable, and do not allow duplicate values.\n",
        "# NOT INDEXED\n",
        "\n",
        "x = {\"apple\", \"banana\", \"cherry\"}\n",
        "print(x)\n",
        "\n",
        "x = {\"apple\", \"banana\", \"cherry\", \"apple\"}\n",
        "print(x)\n",
        "\n",
        "print(type(x))"
      ],
      "execution_count": 47,
      "outputs": [
        {
          "output_type": "stream",
          "text": [
            "{'cherry', 'apple', 'banana'}\n",
            "{'cherry', 'apple', 'banana'}\n",
            "<class 'set'>\n"
          ],
          "name": "stdout"
        }
      ]
    },
    {
      "cell_type": "code",
      "metadata": {
        "colab": {
          "base_uri": "https://localhost:8080/"
        },
        "id": "SVArAM6uQ1Zk",
        "outputId": "ece10415-3c11-4b9f-f106-fbdc026e4d55"
      },
      "source": [
        "# frozenset     **collection**\n",
        "\n",
        "# frozenset type is an immutable version of the set\n",
        "# which means it cannot be changed after creation\n",
        "# dont worry too much about this one\n",
        "\n",
        "x = frozenset({\"apple\", \"banana\", \"cherry\"})\n",
        "print(x)\n",
        "print(type(x))"
      ],
      "execution_count": 48,
      "outputs": [
        {
          "output_type": "stream",
          "text": [
            "frozenset({'cherry', 'apple', 'banana'})\n",
            "<class 'frozenset'>\n"
          ],
          "name": "stdout"
        }
      ]
    },
    {
      "cell_type": "markdown",
      "metadata": {
        "id": "XjNhqbm1q1jt"
      },
      "source": [
        "## Binary Types:"
      ]
    },
    {
      "cell_type": "code",
      "metadata": {
        "id": "TlK1Covpq0RD"
      },
      "source": [
        "# bytesf"
      ],
      "execution_count": null,
      "outputs": []
    },
    {
      "cell_type": "code",
      "metadata": {
        "id": "t5tvfNiHq5R4"
      },
      "source": [
        "# bytearray"
      ],
      "execution_count": null,
      "outputs": []
    },
    {
      "cell_type": "code",
      "metadata": {
        "id": "GPqQmaVwq8EW"
      },
      "source": [
        "# memoryview"
      ],
      "execution_count": null,
      "outputs": []
    }
  ]
}