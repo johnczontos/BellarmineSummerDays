{
  "nbformat": 4,
  "nbformat_minor": 0,
  "metadata": {
    "colab": {
      "name": "BlackJack.ipynb",
      "provenance": [],
      "authorship_tag": "ABX9TyNdzMe9Sz7ccrsnF+QCA+lV",
      "include_colab_link": true
    },
    "kernelspec": {
      "name": "python3",
      "display_name": "Python 3"
    },
    "language_info": {
      "name": "python"
    }
  },
  "cells": [
    {
      "cell_type": "markdown",
      "metadata": {
        "id": "view-in-github",
        "colab_type": "text"
      },
      "source": [
        "<a href=\"https://colab.research.google.com/github/johnczontos/BellarmineSummerDays/blob/blackJack/BlackJack.ipynb\" target=\"_parent\"><img src=\"https://colab.research.google.com/assets/colab-badge.svg\" alt=\"Open In Colab\"/></a>"
      ]
    },
    {
      "cell_type": "code",
      "metadata": {
        "id": "kxYkO1veJN8h"
      },
      "source": [
        "import random"
      ],
      "execution_count": 2,
      "outputs": []
    },
    {
      "cell_type": "code",
      "metadata": {
        "id": "7Wt-Jf1JJQEb"
      },
      "source": [
        "class Deck:\n",
        "    def __init__(self):\n",
        "        self.stack = [('A', 11), ('2', 2), ('3', 3), ('4', 4), ('5', 5), ('6', 6), ('7', 7), ('8', 8), ('9', 9), ('10', 10), ('J', 10), ('Q', 10), ('K', 10)] * 4\n",
        "\n",
        "    def shuffle(self):\n",
        "        random.shuffle(self.stack)\n",
        "        print(self.stack)\n",
        "\n",
        "    def deal_card(self):\n",
        "        return self.stack.pop()\n",
        "\n",
        "# deck1 = Deck()\n",
        "# deck1.shuffle()\n",
        "\n",
        "# deck2 = Deck()\n",
        "# deck2.shuffle()\n",
        "\n",
        "# print(deck1.deal_card())\n",
        "# print(deck2.deal_card())"
      ],
      "execution_count": 5,
      "outputs": []
    },
    {
      "cell_type": "code",
      "metadata": {
        "id": "1VWXBaDLLQ2r"
      },
      "source": [
        "class Dealer:\n",
        "    def __init__(self):\n",
        "        self.name = \"Dealer\"\n",
        "        self.hand = []\n",
        "        self.score = 0"
      ],
      "execution_count": 13,
      "outputs": []
    },
    {
      "cell_type": "code",
      "metadata": {
        "id": "y8-RjI-PMB2o"
      },
      "source": [
        "class Player:\n",
        "    def __init__(self, name, funds):\n",
        "        self.name = name\n",
        "        self.hand = []\n",
        "        self.score = 0\n",
        "        self.funds = funds\n",
        "        self.bet = 0\n",
        "\n",
        "    def place_bet(self):\n",
        "        self.bet = int(input(\"How much money would you like to bet?\"))\n",
        "        self.funds -= self.bet\n",
        "\n",
        "    def payout(self):\n",
        "        self.funds += (self.bet * 2)\n",
        "\n",
        "    def hit_or_stay(self):\n",
        "        while True:\n",
        "            choice = input(\"Would you like to hit? (y/n)\").lower()\n",
        "            if choice.startswith('y'):\n",
        "                return True\n",
        "            elif choice.startswith('n'):\n",
        "                return False\n",
        "            else:\n",
        "                print(\"invalid input.\")\n",
        "\n",
        "# player1 = Player(\"John\", 100000)\n",
        "# player1.hit_or_stay()"
      ],
      "execution_count": null,
      "outputs": []
    },
    {
      "cell_type": "code",
      "metadata": {
        "id": "HgeHvEUoNB-z"
      },
      "source": [
        "class Game:\n",
        "    def __init__(self, name, funds = 1000):\n",
        "        self.deck = Deck()\n",
        "        self.player = Player(name, funds)\n",
        "        self.dealer = Dealer()\n",
        "\n",
        "    def table_setup(self):\n",
        "        self.deck.shuffle()\n",
        "        \n",
        "        # ask player how much theyed like to bet\n",
        "        self.player.place_bet()\n",
        "\n",
        "        # deal cards to the dealer and the player\n",
        "        self.player.hand.append(self.deck.deal_card())\n",
        "        self.dealer.hand.append(self.deck.deal_card())\n",
        "        self.player.hand.append(self.deck.deal_card())\n",
        "        self.dealer.hand.append(self.deck.deal_card())\n",
        "\n",
        "        # run the game functionality\n",
        "        self.play()\n",
        "\n",
        "    def __str__(self):\n",
        "        print(\"Dealer's hand: \", self.dealer.hand)\n",
        "        self.calculate_score(self.dealer)\n",
        "        print(\"Dealer score: \", self.dealer.score)\n",
        "        print(\"Players's hand: \", self.player.hand)\n",
        "        self.calculate_score(self.player)\n",
        "        print(\"Player score: \", self.player.score)\n",
        "        return ''\n",
        "\n",
        "    def calculate_score(self, player):\n",
        "        score = 0\n",
        "        has_ace = False\n",
        "        for card in player.hand:\n",
        "            if card[0] == 'A':\n",
        "                has_ace = True\n",
        "            score += card[1]\n",
        "\n",
        "        if has_ace and score > 21:\n",
        "            score -= 10\n",
        "        player.score = score\n",
        "\n",
        "    def play(self):\n",
        "        while True:\n",
        "            print(self)\n",
        "            player_move = self.player.hit_or_stay()\n",
        "\n",
        "game1 = Game(\"John\", 10000)\n",
        "print(game1)\n",
        "game1.table_setup()\n",
        "print(game1)"
      ],
      "execution_count": null,
      "outputs": []
    },
    {
      "cell_type": "code",
      "metadata": {
        "colab": {
          "base_uri": "https://localhost:8080/"
        },
        "id": "UxhRCIAMRQfX",
        "outputId": "ea30f976-3200-4ea7-d472-02d66b8653c2"
      },
      "source": [
        "arr = [1, 3, 4, 5, 7, 9]\n",
        "\n",
        "for a in arr:\n",
        "    print(a)"
      ],
      "execution_count": 20,
      "outputs": [
        {
          "output_type": "stream",
          "text": [
            "1\n",
            "3\n",
            "4\n",
            "5\n",
            "7\n",
            "9\n"
          ],
          "name": "stdout"
        }
      ]
    }
  ]
}